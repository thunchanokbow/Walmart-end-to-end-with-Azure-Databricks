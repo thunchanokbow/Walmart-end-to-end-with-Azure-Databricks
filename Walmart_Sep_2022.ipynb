{
 "cells": [
  {
   "cell_type": "markdown",
   "metadata": {
    "application/vnd.databricks.v1+cell": {
     "cellMetadata": {
      "byteLimit": 2048000,
      "rowLimit": 10000
     },
     "inputWidgets": {},
     "nuid": "fbe10aa6-139a-4376-9b36-b11120e984d3",
     "showTitle": false,
     "title": ""
    },
    "id": "ykctE209FXUt"
   },
   "source": [
    "# Walmart Products September 2022"
   ]
  },
  {
   "cell_type": "markdown",
   "metadata": {
    "application/vnd.databricks.v1+cell": {
     "cellMetadata": {
      "byteLimit": 2048000,
      "rowLimit": 10000
     },
     "inputWidgets": {},
     "nuid": "0749368f-753f-4f4b-9422-ba2cc0244582",
     "showTitle": false,
     "title": ""
    },
    "id": "-4ioUJB4FTy2"
   },
   "source": [
    "##### Businesses Requirements:\n",
    "--------------------------------------------------------------------------------\n",
    "1. The Marketing team needs a list of top categories in the month of September 2022. So that they can promote by placing them in more visible locations and on the website or application.\n",
    "\n",
    "2. The Product team requires a list of top-selling product names within the top categories. So that they can contact the suppliers to order more products and discuss pricing options.\n",
    "--------------------------------------------------------------------------------"
   ]
  },
  {
   "cell_type": "markdown",
   "metadata": {
    "application/vnd.databricks.v1+cell": {
     "cellMetadata": {
      "byteLimit": 2048000,
      "rowLimit": 10000
     },
     "inputWidgets": {},
     "nuid": "90e1e150-d15c-49c3-ae8b-5f7bdc1bb60f",
     "showTitle": false,
     "title": ""
    },
    "id": "OyQPnE43GACs"
   },
   "source": [
    "##### Product information from Walmart's Grocery that cantains the following columns:\n",
    "\n",
    "- SHIPPING_LOCATION: The location where the product is shipped from. (String)\n",
    "\n",
    "- DEPARTMENT: The department in which the product is categorized. (String)\n",
    "\n",
    "- CATEGORY: The category in which the product is categorized. (String)\n",
    "- SUBCATEGORY: The subcategory in which the product is categorized. (String)\n",
    "- BREADCRUMBS: The breadcrumbs for the product. (String)\n",
    "- SKU: The SKU for the product. (String)\n",
    "- PRODUCT_URL: The URL for the product. (String)\n",
    "- PRODUCT_NAME: The name of the product. (String)\n",
    "- BRAND: The brand of the product. (String)\n",
    "- PRICE_RETAIL: The retail price of the product. (Float)\n",
    "- PRICE_CURRENT: The current price of the product. (Float)\n",
    "- PRODUCT_SIZE: The size of the product. (String)\n",
    "- PROMOTION: The promotion for the product. (String)\n",
    "- RunDate: The date on which the data was collected. (Date)"
   ]
  },
  {
   "cell_type": "code",
   "execution_count": null,
   "metadata": {
    "application/vnd.databricks.v1+cell": {
     "cellMetadata": {
      "byteLimit": 2048000,
      "rowLimit": 10000
     },
     "inputWidgets": {},
     "nuid": "023611c1-aef6-4a84-8a98-fcd64fda744c",
     "showTitle": false,
     "title": ""
    },
    "id": "e6-PYi44nH2e"
   },
   "outputs": [],
   "source": [
    "# import the spark session.\n",
    "from pyspark.sql import SparkSession\n",
    "# Create a Spark session.\n",
    "spark = SparkSession.builder.master(\"local[*]\").getOrCreate()\n",
    "# import the col function.\n",
    "from pyspark.sql.functions import col\n",
    "# import the f function.\n",
    "import pyspark.sql.functions as f"
   ]
  },
  {
   "cell_type": "code",
   "execution_count": null,
   "metadata": {
    "application/vnd.databricks.v1+cell": {
     "cellMetadata": {
      "byteLimit": 2048000,
      "rowLimit": 10000
     },
     "inputWidgets": {},
     "nuid": "0f84b4aa-5dbc-45c9-80ef-999979f11d44",
     "showTitle": false,
     "title": ""
    }
   },
   "outputs": [
    {
     "name": "stdout",
     "output_type": "stream",
     "text": [
      "+-----+-----------------+----------+--------------------+-----------+--------------------+---------+--------------------+--------------------+--------------------+------------+-------------+------------+---------+-------------------+--------+\n",
      "|index|SHIPPING_LOCATION|DEPARTMENT|            CATEGORY|SUBCATEGORY|         BREADCRUMBS|      SKU|         PRODUCT_URL|        PRODUCT_NAME|               BRAND|PRICE_RETAIL|PRICE_CURRENT|PRODUCT_SIZE|PROMOTION|            RunDate|     tid|\n",
      "+-----+-----------------+----------+--------------------+-----------+--------------------+---------+--------------------+--------------------+--------------------+------------+-------------+------------+---------+-------------------+--------+\n",
      "|    0|            79936|      Deli|Hummus, Dips, & S...|       null|Deli/Hummus, Dips...|110895339|https://www.walma...|Marketside Roaste...|          Marketside|        2.67|         2.67|          10|     null|2022-09-11 21:20:04|16163804|\n",
      "|    1|            79936|      Deli|Hummus, Dips, & S...|       null|Deli/Hummus, Dips...|105455228|https://www.walma...|Marketside Roaste...|          Marketside|        2.67|         2.67|          10|     null|2022-09-11 21:20:04|16163805|\n",
      "|    2|            79936|      Deli|Hummus, Dips, & S...|       null|Deli/Hummus, Dips...|128642379|https://www.walma...|Marketside Classi...|          Marketside|        2.67|         2.67|          10|     null|2022-09-11 21:20:04|16163806|\n",
      "|    3|            79936|      Deli|Hummus, Dips, & S...|       null|Deli/Hummus, Dips...|366126367|https://www.walma...|Marketside Everyt...|          Marketside|        2.67|         2.67|          10|     null|2022-09-11 21:20:04|16163807|\n",
      "|    4|            79936|      Deli|Hummus, Dips, & S...|       null|Deli/Hummus, Dips...|160090316|https://www.walma...|Price's Jalapeno ...|             Price's|        3.12|         3.12|          12|     null|2022-09-11 21:20:04|16163808|\n",
      "|    5|            79936|      Deli|Hummus, Dips, & S...|       null|Deli/Hummus, Dips...|174071300|https://www.walma...|Price's Green Chi...|             Price's|        3.12|         3.12|          12|     null|2022-09-11 21:20:04|16163809|\n",
      "|    6|            79936|      Deli|Hummus, Dips, & S...|       null|Deli/Hummus, Dips...| 10294995|https://www.walma...|Dean's, French On...|              Dean's|        2.42|         2.42|          16|     null|2022-09-11 21:20:04|16163810|\n",
      "|    7|            79936|      Deli|Hummus, Dips, & S...|       null|Deli/Hummus, Dips...| 37915367|https://www.walma...|Marketside Spinac...|          Marketside|        5.54|         5.54|          16|     null|2022-09-11 21:20:04|16163811|\n",
      "|    8|            79936|      Deli|Hummus, Dips, & S...|       null|Deli/Hummus, Dips...|482903957|https://www.walma...|Fresh Cravings Ro...|      Fresh Cravings|        3.27|         3.27|          10|     null|2022-09-11 21:20:04|16163812|\n",
      "|    9|            79936|      Deli|Hummus, Dips, & S...|       null|Deli/Hummus, Dips...|538183292|https://www.walma...|Marketside Buffal...|          Marketside|        4.54|         4.54|          11|     null|2022-09-11 21:20:04|16163813|\n",
      "|   10|            79936|      Deli|Hummus, Dips, & S...|       null|Deli/Hummus, Dips...|628355959|https://www.walma...|Marketside Spicy ...|          Marketside|        2.67|         2.67|          10|     null|2022-09-11 21:20:04|16163814|\n",
      "|   11|            79936|      Deli|Hummus, Dips, & S...|       null|Deli/Hummus, Dips...|764726416|https://www.walma...|Marketside Pine N...|          Marketside|        2.67|         2.67|          10|     null|2022-09-11 21:20:04|16163815|\n",
      "|   12|            79936|      Deli|Hummus, Dips, & S...|       null|Deli/Hummus, Dips...|439259695|https://www.walma...|Marketside Cantin...|          Marketside|        2.86|         2.86|          16|     null|2022-09-11 21:20:04|16163816|\n",
      "|   13|            79936|      Deli|Hummus, Dips, & S...|       null|Deli/Hummus, Dips...|825414671|https://www.walma...|Fresh Cravings Ev...|      Fresh Cravings|        3.27|         3.27|          10|     null|2022-09-11 21:20:04|16163817|\n",
      "|   14|            79936|      Deli|Hummus, Dips, & S...|       null|Deli/Hummus, Dips...|437850228|https://www.walma...|Fresh Cravings Ro...|      Fresh Cravings|        3.27|         3.27|          10|     null|2022-09-11 21:20:04|16163818|\n",
      "|   15|            79936|      Deli|Hummus, Dips, & S...|       null|Deli/Hummus, Dips...|947277219|https://www.walma...|Fresh Cravings Ho...|      Fresh Cravings|        3.27|         3.27|          10|     null|2022-09-11 21:20:04|16163819|\n",
      "|   16|            79936|      Deli|Hummus, Dips, & S...|       null|Deli/Hummus, Dips...|789505963|https://www.walma...|Fresh Cravings Cl...|      Fresh Cravings|        3.27|         3.27|          10|     null|2022-09-11 21:20:04|16163820|\n",
      "|   17|            79936|      Deli|Hummus, Dips, & S...|       null|Deli/Hummus, Dips...|533767006|https://www.walma...|Freshness Guarant...|Freshness Guaranteed|        3.14|         3.14|           8|     null|2022-09-11 21:20:04|16163821|\n",
      "|   18|            79936|      Deli|Hummus, Dips, & S...|       null|Deli/Hummus, Dips...|634219926|https://www.walma...|Tabla Fresca Farm...|        Tabla Fresca|        3.94|         3.94|          16|     null|2022-09-11 21:20:04|16163822|\n",
      "|   19|            79936|      Deli|Hummus, Dips, & S...|       null|Deli/Hummus, Dips...|562281812|https://www.walma...|Fresh Cravings Sp...|      Fresh Cravings|        3.27|         3.27|          10|     null|2022-09-11 21:20:04|16163823|\n",
      "+-----+-----------------+----------+--------------------+-----------+--------------------+---------+--------------------+--------------------+--------------------+------------+-------------+------------+---------+-------------------+--------+\n",
      "only showing top 20 rows\n",
      "\n"
     ]
    }
   ],
   "source": [
    "# Read the data into a Spark DataFrame.\n",
    "df = spark.read.csv('/mnt/walmartazuredatabricks/raw/WMT_Grocery_202209.csv', header = True, inferSchema = True,)\n",
    "df.show()"
   ]
  },
  {
   "cell_type": "code",
   "execution_count": null,
   "metadata": {
    "application/vnd.databricks.v1+cell": {
     "cellMetadata": {
      "byteLimit": 2048000,
      "rowLimit": 10000
     },
     "inputWidgets": {},
     "nuid": "6b22ed58-1eea-43e6-81dc-150cfcf9a4a1",
     "showTitle": false,
     "title": ""
    },
    "id": "M9F2BekewKbO"
   },
   "outputs": [],
   "source": [
    "# Converted 'SHOP ALL' to lower case in SUBCATEGORY column.\n",
    "df = df.withColumn(\"SUBCATEGORY\", f.lower(f.col(\"SUBCATEGORY\")))"
   ]
  },
  {
   "cell_type": "code",
   "execution_count": null,
   "metadata": {
    "application/vnd.databricks.v1+cell": {
     "cellMetadata": {
      "byteLimit": 2048000,
      "rowLimit": 10000
     },
     "inputWidgets": {},
     "nuid": "1e8f9046-7aff-4c13-a846-22e91f3e2dcf",
     "showTitle": false,
     "title": ""
    },
    "colab": {
     "base_uri": "https://localhost:8080/"
    },
    "id": "K67wI1ebzJH4",
    "outputId": "8403fc49-8384-4f7f-8f69-cc927d408b1b"
   },
   "outputs": [
    {
     "name": "stdout",
     "output_type": "stream",
     "text": [
      "+------+-----------------+----------+--------------------+-----------+--------------------+---------+--------------------+--------------------+-----------+------------+-------------+------------+---------+-------------------+--------+\n",
      "| index|SHIPPING_LOCATION|DEPARTMENT|            CATEGORY|SUBCATEGORY|         BREADCRUMBS|      SKU|         PRODUCT_URL|        PRODUCT_NAME|      BRAND|PRICE_RETAIL|PRICE_CURRENT|PRODUCT_SIZE|PROMOTION|            RunDate|     tid|\n",
      "+------+-----------------+----------+--------------------+-----------+--------------------+---------+--------------------+--------------------+-----------+------------+-------------+------------+---------+-------------------+--------+\n",
      "|317984|            53215|    Pantry|Herbs, spices & s...|   shop all|Pantry/Herbs, spi...|861014617|https://www.walma...|Great Value Parsl...|Great Value|         1.0|          1.0|         0.4|     null|2022-09-11 21:20:04|16481788|\n",
      "|317985|            53215|    Pantry|Herbs, spices & s...|   shop all|Pantry/Herbs, spi...|408264184|https://www.walma...|Great Value Lemon...|Great Value|         1.0|          1.0|        4.25|     null|2022-09-11 21:20:04|16481789|\n",
      "|317986|            53215|    Pantry|Herbs, spices & s...|   shop all|Pantry/Herbs, spi...|637648335|https://www.walma...|Great Value Itali...|Great Value|         1.0|          1.0|        0.95|     null|2022-09-11 21:20:04|16481790|\n",
      "|317987|            53215|    Pantry|Herbs, spices & s...|   shop all|Pantry/Herbs, spi...| 10535388|https://www.walma...|Louisiana Fish Fr...|  Louisiana|        1.74|         1.74|          10|     null|2022-09-11 21:20:04|16481791|\n",
      "|317988|            53215|    Pantry|Herbs, spices & s...|   shop all|Pantry/Herbs, spi...|559839182|https://www.walma...|Great Value Papri...|Great Value|         1.0|          1.0|         2.5|     null|2022-09-11 21:20:04|16481792|\n",
      "+------+-----------------+----------+--------------------+-----------+--------------------+---------+--------------------+--------------------+-----------+------------+-------------+------------+---------+-------------------+--------+\n",
      "only showing top 5 rows\n",
      "\n"
     ]
    }
   ],
   "source": [
    "# Show the SUBCATEGORY columns is shop all.\n",
    "filtered_df = df.where(col(\"SUBCATEGORY\") == \"shop all\")\n",
    "filtered_df.show(5)"
   ]
  },
  {
   "cell_type": "code",
   "execution_count": null,
   "metadata": {
    "application/vnd.databricks.v1+cell": {
     "cellMetadata": {
      "byteLimit": 2048000,
      "rowLimit": 10000
     },
     "inputWidgets": {},
     "nuid": "8e715ee0-52ed-4c61-a843-872c9589de9f",
     "showTitle": false,
     "title": ""
    },
    "id": "OyJNJARYz0Mp"
   },
   "outputs": [],
   "source": [
    "# Converted PRODUCT_SIZE column to numeric.\n",
    "df = df.withColumn(\"PRODUCT_SIZE\", f.col(\"PRODUCT_SIZE\").cast(\"double\"))"
   ]
  },
  {
   "cell_type": "code",
   "execution_count": null,
   "metadata": {
    "application/vnd.databricks.v1+cell": {
     "cellMetadata": {
      "byteLimit": 2048000,
      "rowLimit": 10000
     },
     "inputWidgets": {},
     "nuid": "cc4698de-4c2f-4419-b5c1-e882073faa86",
     "showTitle": false,
     "title": ""
    },
    "colab": {
     "base_uri": "https://localhost:8080/"
    },
    "id": "LDK_Eyv23SUV",
    "outputId": "bc22b03a-b252-4c97-ad9b-c4472b78ab98"
   },
   "outputs": [
    {
     "name": "stdout",
     "output_type": "stream",
     "text": [
      "Rows: 568534 , Columns: 16\n"
     ]
    }
   ],
   "source": [
    "# Check how many rows and columns we have in the table.\n",
    "print(\"Rows:\", df.count(), \", Columns:\", len(df.columns))"
   ]
  },
  {
   "cell_type": "code",
   "execution_count": null,
   "metadata": {
    "application/vnd.databricks.v1+cell": {
     "cellMetadata": {
      "byteLimit": 2048000,
      "rowLimit": 10000
     },
     "inputWidgets": {},
     "nuid": "37549754-bbaa-405f-b3d6-804d9ba7751a",
     "showTitle": false,
     "title": ""
    },
    "colab": {
     "base_uri": "https://localhost:8080/"
    },
    "id": "F0LxpNVj9hns",
    "outputId": "2c6d5150-df92-40ec-c292-0b390ce5ecbf"
   },
   "outputs": [
    {
     "name": "stdout",
     "output_type": "stream",
     "text": [
      "root\n",
      " |-- index: integer (nullable = true)\n",
      " |-- SHIPPING_LOCATION: integer (nullable = true)\n",
      " |-- DEPARTMENT: string (nullable = true)\n",
      " |-- CATEGORY: string (nullable = true)\n",
      " |-- SUBCATEGORY: string (nullable = true)\n",
      " |-- BREADCRUMBS: string (nullable = true)\n",
      " |-- SKU: integer (nullable = true)\n",
      " |-- PRODUCT_URL: string (nullable = true)\n",
      " |-- PRODUCT_NAME: string (nullable = true)\n",
      " |-- BRAND: string (nullable = true)\n",
      " |-- PRICE_RETAIL: string (nullable = true)\n",
      " |-- PRICE_CURRENT: string (nullable = true)\n",
      " |-- PRODUCT_SIZE: double (nullable = true)\n",
      " |-- PROMOTION: string (nullable = true)\n",
      " |-- RunDate: string (nullable = true)\n",
      " |-- tid: string (nullable = true)\n",
      "\n"
     ]
    }
   ],
   "source": [
    "# Check the data types and missing values of the columns.\n",
    "df.printSchema()"
   ]
  },
  {
   "cell_type": "code",
   "execution_count": null,
   "metadata": {
    "application/vnd.databricks.v1+cell": {
     "cellMetadata": {
      "byteLimit": 2048000,
      "rowLimit": 10000
     },
     "inputWidgets": {},
     "nuid": "e5daa4c8-1321-4367-b347-b22fc935f2fa",
     "showTitle": false,
     "title": ""
    },
    "colab": {
     "base_uri": "https://localhost:8080/"
    },
    "id": "r9E4M0m_4TKh",
    "outputId": "f570f903-ca5e-40a6-d1c0-64f6883585f5"
   },
   "outputs": [
    {
     "name": "stdout",
     "output_type": "stream",
     "text": [
      "+-------+------------------+-----------------+----------+--------------------+-----------+--------------------+--------------------+--------------------+--------------------+------------------+-----------------+--------------------+-----------------+------------------+-----------------+--------------------+\n",
      "|summary|             index|SHIPPING_LOCATION|DEPARTMENT|            CATEGORY|SUBCATEGORY|         BREADCRUMBS|                 SKU|         PRODUCT_URL|        PRODUCT_NAME|             BRAND|     PRICE_RETAIL|       PRICE_CURRENT|     PRODUCT_SIZE|         PROMOTION|          RunDate|                 tid|\n",
      "+-------+------------------+-----------------+----------+--------------------+-----------+--------------------+--------------------+--------------------+--------------------+------------------+-----------------+--------------------+-----------------+------------------+-----------------+--------------------+\n",
      "|  count|            568534|           568534|    568534|              568534|     361324|              568534|              568534|              568534|              568534|            568507|           568534|              568534|           505096|              1132|           567404|              568410|\n",
      "|   mean|          284266.5|57713.14993474445|      null|                null|       null|                null|2.4532837744482476E8|                null|                null|303843.42452830187|5.103887104505343|   5.079546163073279|24.15404401341636|  16.4245462633451|      14.04703125|1.6448010704077762E7|\n",
      "| stddev|164121.77330923115|24113.96915587441|      null|                null|       null|                null|3.0493749130281436E8|                null|                null|174265.67271113858| 4.82499304225357|   4.728375970679843|78.64684844347315|14.391067820302412|3.682827217502388|  169918.72463813855|\n",
      "|    min|                 0|             6010|   Alcohol|Bacon, Hot Dogs, ...|    arizona|        Alcohol/Beer|              879555|https://www.walma...|\"\"\"JIFFY\"\" Honey ...|        100 Count\"|           15.4oz| 3.5 x 2.95 x 4.5...|             0.03|             Onion|           Garlic| Cayenne Pepper a...|\n",
      "|    max|            568533|            96797|    Snacks|              Yogurt|     yogurt|Snacks/Variety Pa...|          1996766840|https://www.walma...|vitaminwater zero...|      vitaminwater|       The Bakery|          The Bakery|           5000.0|               7.5|              8.5| 2022-09-11 21:20:04|\n",
      "+-------+------------------+-----------------+----------+--------------------+-----------+--------------------+--------------------+--------------------+--------------------+------------------+-----------------+--------------------+-----------------+------------------+-----------------+--------------------+\n",
      "\n"
     ]
    }
   ],
   "source": [
    "df.describe().show()"
   ]
  },
  {
   "cell_type": "code",
   "execution_count": null,
   "metadata": {
    "application/vnd.databricks.v1+cell": {
     "cellMetadata": {
      "byteLimit": 2048000,
      "rowLimit": 10000
     },
     "inputWidgets": {},
     "nuid": "58546f0a-d80a-46e3-b11f-7fc31ec44222",
     "showTitle": false,
     "title": ""
    },
    "colab": {
     "base_uri": "https://localhost:8080/"
    },
    "id": "M8n61BKJ58xZ",
    "outputId": "f7f58c73-900b-4036-d1f8-77043b1f275b"
   },
   "outputs": [
    {
     "name": "stdout",
     "output_type": "stream",
     "text": [
      "+-----+-----------------+----------+--------------------+--------------------+---------+--------------------+----------+------------+-------------+------------+-------------------+\n",
      "|index|SHIPPING_LOCATION|DEPARTMENT|            CATEGORY|         BREADCRUMBS|      SKU|        PRODUCT_NAME|     BRAND|PRICE_RETAIL|PRICE_CURRENT|PRODUCT_SIZE|            RunDate|\n",
      "+-----+-----------------+----------+--------------------+--------------------+---------+--------------------+----------+------------+-------------+------------+-------------------+\n",
      "|    0|            79936|      Deli|Hummus, Dips, & S...|Deli/Hummus, Dips...|110895339|Marketside Roaste...|Marketside|        2.67|         2.67|        10.0|2022-09-11 21:20:04|\n",
      "|    1|            79936|      Deli|Hummus, Dips, & S...|Deli/Hummus, Dips...|105455228|Marketside Roaste...|Marketside|        2.67|         2.67|        10.0|2022-09-11 21:20:04|\n",
      "|    2|            79936|      Deli|Hummus, Dips, & S...|Deli/Hummus, Dips...|128642379|Marketside Classi...|Marketside|        2.67|         2.67|        10.0|2022-09-11 21:20:04|\n",
      "|    3|            79936|      Deli|Hummus, Dips, & S...|Deli/Hummus, Dips...|366126367|Marketside Everyt...|Marketside|        2.67|         2.67|        10.0|2022-09-11 21:20:04|\n",
      "|    4|            79936|      Deli|Hummus, Dips, & S...|Deli/Hummus, Dips...|160090316|Price's Jalapeno ...|   Price's|        3.12|         3.12|        12.0|2022-09-11 21:20:04|\n",
      "+-----+-----------------+----------+--------------------+--------------------+---------+--------------------+----------+------------+-------------+------------+-------------------+\n",
      "only showing top 5 rows\n",
      "\n"
     ]
    }
   ],
   "source": [
    "# Remove the columns are not necessary.\n",
    "df = df.drop(\"PROMOTION\", \"tid\", \"PRODUCT_URL\", \"SUBCATEGORY\")\n",
    "df.show(5)"
   ]
  },
  {
   "cell_type": "code",
   "execution_count": null,
   "metadata": {
    "application/vnd.databricks.v1+cell": {
     "cellMetadata": {
      "byteLimit": 2048000,
      "rowLimit": 10000
     },
     "inputWidgets": {},
     "nuid": "e13457e0-f02e-4f3e-97e9-1aa54a400de1",
     "showTitle": false,
     "title": ""
    },
    "colab": {
     "base_uri": "https://localhost:8080/"
    },
    "id": "4nfNixHx9zWe",
    "outputId": "c24e043b-3c60-4180-d484-416c04e65de4"
   },
   "outputs": [
    {
     "name": "stdout",
     "output_type": "stream",
     "text": [
      "+-----+-----------------+----------+--------------------+--------------------+---------+--------------------+----------+------------+-------------+------------+-------------------+\n",
      "|index|SHIPPING_LOCATION|DEPARTMENT|            CATEGORY|         BREADCRUMBS|      SKU|        PRODUCT_NAME|     BRAND|PRICE_RETAIL|PRICE_CURRENT|PRODUCT_SIZE|            RunDate|\n",
      "+-----+-----------------+----------+--------------------+--------------------+---------+--------------------+----------+------------+-------------+------------+-------------------+\n",
      "|    0|            79936|      Deli|Hummus, Dips, & S...|Deli/Hummus, Dips...|110895339|Marketside Roaste...|Marketside|        2.67|         2.67|        10.0|2022-09-11 21:20:04|\n",
      "|    1|            79936|      Deli|Hummus, Dips, & S...|Deli/Hummus, Dips...|105455228|Marketside Roaste...|Marketside|        2.67|         2.67|        10.0|2022-09-11 21:20:04|\n",
      "|    2|            79936|      Deli|Hummus, Dips, & S...|Deli/Hummus, Dips...|128642379|Marketside Classi...|Marketside|        2.67|         2.67|        10.0|2022-09-11 21:20:04|\n",
      "|    3|            79936|      Deli|Hummus, Dips, & S...|Deli/Hummus, Dips...|366126367|Marketside Everyt...|Marketside|        2.67|         2.67|        10.0|2022-09-11 21:20:04|\n",
      "|    4|            79936|      Deli|Hummus, Dips, & S...|Deli/Hummus, Dips...|160090316|Price's Jalapeno Dip|   Price's|        3.12|         3.12|        12.0|2022-09-11 21:20:04|\n",
      "+-----+-----------------+----------+--------------------+--------------------+---------+--------------------+----------+------------+-------------+------------+-------------------+\n",
      "only showing top 5 rows\n",
      "\n"
     ]
    }
   ],
   "source": [
    "# Remove the comma and everthing after it in the 'PRODUCT_NAME' column.\n",
    "df = df.withColumn(\"PRODUCT_NAME\", f.split(f.col(\"PRODUCT_NAME\"), \",\").getItem(0))\n",
    "df.show(5)"
   ]
  },
  {
   "cell_type": "code",
   "execution_count": null,
   "metadata": {
    "application/vnd.databricks.v1+cell": {
     "cellMetadata": {
      "byteLimit": 2048000,
      "rowLimit": 10000
     },
     "inputWidgets": {},
     "nuid": "ad157907-2909-4e80-ab2c-e14b702d558e",
     "showTitle": false,
     "title": ""
    },
    "colab": {
     "base_uri": "https://localhost:8080/"
    },
    "id": "wjjNrluy_qSx",
    "outputId": "201ec957-1c52-4fb1-c0e0-be61cea66876"
   },
   "outputs": [
    {
     "name": "stdout",
     "output_type": "stream",
     "text": [
      "+-------+------------------+-----------------+----------+--------------------+--------------------+--------------------+--------------------+------------------+-----------------+--------------------+-----------------+-----------------+\n",
      "|summary|             index|SHIPPING_LOCATION|DEPARTMENT|            CATEGORY|         BREADCRUMBS|                 SKU|        PRODUCT_NAME|             BRAND|     PRICE_RETAIL|       PRICE_CURRENT|     PRODUCT_SIZE|          RunDate|\n",
      "+-------+------------------+-----------------+----------+--------------------+--------------------+--------------------+--------------------+------------------+-----------------+--------------------+-----------------+-----------------+\n",
      "|  count|            568534|           568534|    568534|              568534|              568534|              568534|              568534|            568507|           568534|              568534|           568534|           567404|\n",
      "|   mean|          284266.5|57713.14993474445|      null|                null|                null|2.4532837744482476E8|                null|303843.42452830187|5.103887104505343|   5.079546163073279|24.15404401342112|      14.04703125|\n",
      "| stddev|164121.77330923115|24113.96915587441|      null|                null|                null|3.0493749130281436E8|                null|174265.67271113858| 4.82499304225357|   4.728375970679843|74.12932060773687|3.682827217502388|\n",
      "|    min|                 0|             6010|   Alcohol|Bacon, Hot Dogs, ...|        Alcohol/Beer|              879555|\"\"\"JIFFY\"\" Honey ...|        100 Count\"|           15.4oz| 3.5 x 2.95 x 4.5...|             0.03|           Garlic|\n",
      "|    max|            568533|            96797|    Snacks|              Yogurt|Snacks/Variety Pa...|          1996766840|vitaminwater zero...|      vitaminwater|       The Bakery|          The Bakery|           5000.0|              8.5|\n",
      "+-------+------------------+-----------------+----------+--------------------+--------------------+--------------------+--------------------+------------------+-----------------+--------------------+-----------------+-----------------+\n",
      "\n"
     ]
    }
   ],
   "source": [
    "# Fill the missing values in the 'PRODUCT_SIZE' column with the mean of the cilumn.\n",
    "df = df.withColumn(\"PRODUCT_SIZE\", f.when(f.col(\"PRODUCT_SIZE\").isNull(), df.select(f.mean(\"PRODUCT_SIZE\")).collect()[0][0]).otherwise(f.col(\"PRODUCT_SIZE\")))\n",
    "df.describe().show()"
   ]
  },
  {
   "cell_type": "markdown",
   "metadata": {},
   "source": [
    "# A list of top categories"
   ]
  },
  {
   "cell_type": "code",
   "execution_count": null,
   "metadata": {
    "application/vnd.databricks.v1+cell": {
     "cellMetadata": {
      "byteLimit": 2048000,
      "rowLimit": 10000
     },
     "inputWidgets": {},
     "nuid": "234a413c-b164-4190-b87f-c4cd65fcdace",
     "showTitle": false,
     "title": ""
    },
    "colab": {
     "base_uri": "https://localhost:8080/"
    },
    "id": "_pYHJB3o9yVt",
    "outputId": "cf978dad-c594-4f95-f358-9a9937bd36fd"
   },
   "outputs": [
    {
     "name": "stdout",
     "output_type": "stream",
     "text": [
      "+--------------------+-----+\n",
      "|            CATEGORY|count|\n",
      "+--------------------+-----+\n",
      "|          Fresh Food|36049|\n",
      "| Breakfast Beverages|31363|\n",
      "|          Condiments|25530|\n",
      "|        Dairy & Eggs|20453|\n",
      "|        Canned goods|18515|\n",
      "|Herbs, spices & s...|16411|\n",
      "|           Chocolate|15286|\n",
      "|Frozen Meals & Sn...|14759|\n",
      "| International foods|13335|\n",
      "|               Chips|12061|\n",
      "|              Juices|11962|\n",
      "|              Cheese|11448|\n",
      "|      Coffee By Type|10953|\n",
      "|      Healthy Snacks|10413|\n",
      "|       Pasta & pizza|10200|\n",
      "|                Soup| 9831|\n",
      "|     Frozen Desserts| 9533|\n",
      "|Packaged meals & ...| 9506|\n",
      "|Frozen Meat & Sea...| 8543|\n",
      "|    Breakfast Breads| 8284|\n",
      "+--------------------+-----+\n",
      "only showing top 20 rows\n",
      "\n"
     ]
    }
   ],
   "source": [
    "# Get the top category in df table.\n",
    "top_category = df.groupBy(\"CATEGORY\").count().orderBy(\"count\", ascending=False)\n",
    "top_category.show()\n",
    "# Save the top category to a CSV file.\n",
    "top_category.write.format(\"com.databricks.spark.csv\").option(\"header\",\"true\").option(\"delimiter\",\",\").mode(\"overwrite\").save(\"/mnt/walmartazuredatabricks/transformation/top_category\")"
   ]
  },
  {
   "cell_type": "markdown",
   "metadata": {},
   "source": [
    "# A list of top-selling product names"
   ]
  },
  {
   "cell_type": "code",
   "execution_count": null,
   "metadata": {
    "application/vnd.databricks.v1+cell": {
     "cellMetadata": {
      "byteLimit": 2048000,
      "rowLimit": 10000
     },
     "inputWidgets": {},
     "nuid": "2c370777-dfdf-45e6-a4fc-b34830dd41f3",
     "showTitle": false,
     "title": ""
    },
    "id": "GKEybvI3-mn2"
   },
   "outputs": [
    {
     "name": "stdout",
     "output_type": "stream",
     "text": [
      "+--------------------+--------------------+--------------+-----+\n",
      "|        PRODUCT_NAME|               BRAND|    DEPARTMENT|count|\n",
      "+--------------------+--------------------+--------------+-----+\n",
      "|MorningStar Farms...|   MorningStar Farms|Meat & Seafood|  184|\n",
      "|   HORMEL GATHERINGS|              Hormel|Meat & Seafood|  139|\n",
      "|     Kentucky Legend|     Kentucky Legend|Meat & Seafood|  100|\n",
      "|All Natural* 73% ...|   Fresh Ground Beef|Meat & Seafood|   95|\n",
      "|Freshness Guarant...|Freshness Guaranteed|Meat & Seafood|   86|\n",
      "|   Fresh Raspberries|   Produce Unbranded|Meat & Seafood|   85|\n",
      "|Great Value Beef ...|         Great Value|Meat & Seafood|   79|\n",
      "|       Navel Oranges|   PRODUCE UNBRANDED|Meat & Seafood|   73|\n",
      "|      Bartlett Pears|   PRODUCE UNBRANDED|Meat & Seafood|   70|\n",
      "|Hillshire Farm Ha...|      Hillshire Farm|Meat & Seafood|   69|\n",
      "|          Smithfield|          Smithfield|Meat & Seafood|   69|\n",
      "|All Natural* 93% ...|   Fresh Ground Beef|Meat & Seafood|   67|\n",
      "|Marketside Brocco...|          Marketside|Meat & Seafood|   66|\n",
      "|COLUMBUS Sliced I...|            Columbus|Meat & Seafood|   65|\n",
      "|              Lemons|   PRODUCE UNBRANDED|Meat & Seafood|   64|\n",
      "|Prairie Fresh Nat...|        PrairieFresh|Meat & Seafood|   64|\n",
      "|      Red Grapefruit|   PRODUCE UNBRANDED|Meat & Seafood|   62|\n",
      "|Hillshire Farm Sl...|      Hillshire Farm|Meat & Seafood|   61|\n",
      "|Oscar Mayer Deli ...|         Oscar Mayer|Meat & Seafood|   59|\n",
      "|Freshness Guarant...|Freshness Guaranteed|Meat & Seafood|   59|\n",
      "+--------------------+--------------------+--------------+-----+\n",
      "only showing top 20 rows\n",
      "\n"
     ]
    }
   ],
   "source": [
    "# Filter the rows where the CATEGORY is 'Fresh Food'.\n",
    "fresh_food = df.filter(col(\"CATEGORY\") == \"Fresh Food\")\n",
    "# Show the product names and their counts.\n",
    "product_name_count = fresh_food.select(\"PRODUCT_NAME\", \"BRAND\", \"DEPARTMENT\",\"CATEGORY\").groupBy(\"PRODUCT_NAME\", \"BRAND\", \"DEPARTMENT\").count().orderBy(\"count\", ascending=False)\n",
    "product_name_count.show()\n",
    "# Save the product_name_count to a CSV file.\n",
    "product_name_count.write.format(\"com.databricks.spark.csv\").option(\"header\",\"true\").option(\"delimiter\",\",\").mode(\"overwrite\").save(\"/mnt/walmartazuredatabricks/transformation/product_names_count\")"
   ]
  }
 ],
 "metadata": {
  "application/vnd.databricks.v1+notebook": {
   "dashboards": [],
   "language": "python",
   "notebookMetadata": {
    "pythonIndentUnit": 4
   },
   "notebookName": "Walmart_Sep_2022",
   "widgets": {}
  },
  "colab": {
   "provenance": []
  },
  "kernelspec": {
   "display_name": "Python 3",
   "name": "python3"
  },
  "language_info": {
   "name": "python"
  }
 },
 "nbformat": 4,
 "nbformat_minor": 0
}
